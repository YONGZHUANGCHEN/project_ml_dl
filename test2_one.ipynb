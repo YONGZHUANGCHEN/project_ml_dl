{
 "cells": [
  {
   "cell_type": "markdown",
   "metadata": {},
   "source": [
    "# textCNN"
   ]
  },
  {
   "cell_type": "code",
   "execution_count": 13,
   "metadata": {
    "ExecuteTime": {
     "end_time": "2019-07-04T15:24:30.611583Z",
     "start_time": "2019-07-04T15:24:28.120724Z"
    }
   },
   "outputs": [
    {
     "name": "stdout",
     "output_type": "stream",
     "text": [
      "1.0.1 cuda\n"
     ]
    },
    {
     "name": "stderr",
     "output_type": "stream",
     "text": [
      "E:\\anaconda\\lib\\site-packages\\tqdm\\std.py:668: FutureWarning: The Panel class is removed from pandas. Accessing it from the top-level namespace will also be removed in the next version\n",
      "  from pandas import Panel\n"
     ]
    }
   ],
   "source": [
    "import os\n",
    "import torch\n",
    "from torch import nn\n",
    "import torchtext.vocab as Vocab\n",
    "import torch.utils.data as Data\n",
    "import  torch.nn.functional as F\n",
    "import pandas as pd\n",
    "import sys\n",
    "import random\n",
    "import re\n",
    "from tqdm import tqdm\n",
    "import time\n",
    "#Set to use GPU to process data, so that the processing speed is faster\n",
    "\n",
    "tqdm.pandas(desc=\"progress-bar\")\n",
    "os.environ[\"CUDA_VISIBLE_DEVICES\"] = \"0\"\n",
    "device = torch.device('cuda' if torch.cuda.is_available() else 'cpu')\n",
    "\n",
    "DATA_ROOT = \"Datasets\"\n",
    "print(torch.__version__, device)"
   ]
  },
  {
   "cell_type": "markdown",
   "metadata": {},
   "source": [
    "# Max-over-time pooling"
   ]
  },
  {
   "cell_type": "code",
   "execution_count": 14,
   "metadata": {
    "ExecuteTime": {
     "end_time": "2019-07-04T15:24:30.650834Z",
     "start_time": "2019-07-04T15:24:30.647333Z"
    }
   },
   "outputs": [],
   "source": [
    "\n",
    "class GlobalMaxPool1d(nn.Module):\n",
    "    def __init__(self):\n",
    "        super(GlobalMaxPool1d, self).__init__()\n",
    "    def forward(self, x):\n",
    "         # x shape: (batch_size, channel, seq_len)\n",
    "        return F.max_pool1d(x, kernel_size=x.shape[2]) # shape: (batch_size, channel, 1)"
   ]
  },
  {
   "cell_type": "code",
   "execution_count": 15,
   "metadata": {},
   "outputs": [],
   "source": [
    "df=pd.read_csv(\"ori_data.csv\")"
   ]
  },
  {
   "cell_type": "code",
   "execution_count": 16,
   "metadata": {},
   "outputs": [
    {
     "data": {
      "text/html": [
       "<div>\n",
       "<style scoped>\n",
       "    .dataframe tbody tr th:only-of-type {\n",
       "        vertical-align: middle;\n",
       "    }\n",
       "\n",
       "    .dataframe tbody tr th {\n",
       "        vertical-align: top;\n",
       "    }\n",
       "\n",
       "    .dataframe thead th {\n",
       "        text-align: right;\n",
       "    }\n",
       "</style>\n",
       "<table border=\"1\" class=\"dataframe\">\n",
       "  <thead>\n",
       "    <tr style=\"text-align: right;\">\n",
       "      <th></th>\n",
       "      <th>Unnamed: 0</th>\n",
       "      <th>Sentence ID</th>\n",
       "      <th>HIT ID</th>\n",
       "      <th>Formality</th>\n",
       "      <th>Informativeness</th>\n",
       "      <th>Implicature</th>\n",
       "      <th>Length in Words</th>\n",
       "      <th>Length in Characters</th>\n",
       "      <th>F-score</th>\n",
       "      <th>I-score</th>\n",
       "      <th>Lexical Density</th>\n",
       "      <th>Sentence</th>\n",
       "      <th>Label</th>\n",
       "    </tr>\n",
       "  </thead>\n",
       "  <tbody>\n",
       "    <tr>\n",
       "      <th>0</th>\n",
       "      <td>0</td>\n",
       "      <td>0</td>\n",
       "      <td>3D1TUISJWHZ3X38ICFUZ8CHJC9KIUW</td>\n",
       "      <td>5.8</td>\n",
       "      <td>6.4</td>\n",
       "      <td>4.2</td>\n",
       "      <td>33</td>\n",
       "      <td>201</td>\n",
       "      <td>93.939394</td>\n",
       "      <td>7.242424</td>\n",
       "      <td>66.666667</td>\n",
       "      <td>10In High Bay 4 of the Vehicle Assembly Buildi...</td>\n",
       "      <td>1</td>\n",
       "    </tr>\n",
       "    <tr>\n",
       "      <th>1</th>\n",
       "      <td>1</td>\n",
       "      <td>1</td>\n",
       "      <td>3GKAWYFRAOS9XNK03FUU79E7CNKDPT</td>\n",
       "      <td>5.2</td>\n",
       "      <td>5.8</td>\n",
       "      <td>2.6</td>\n",
       "      <td>45</td>\n",
       "      <td>266</td>\n",
       "      <td>85.555556</td>\n",
       "      <td>5.200000</td>\n",
       "      <td>62.222222</td>\n",
       "      <td>12The oxygen vent arm and hood removed from th...</td>\n",
       "      <td>1</td>\n",
       "    </tr>\n",
       "    <tr>\n",
       "      <th>2</th>\n",
       "      <td>2</td>\n",
       "      <td>2</td>\n",
       "      <td>3VMHWJRYHUFB4G0NGCZ1PM3VQZ8XFB</td>\n",
       "      <td>5.2</td>\n",
       "      <td>5.6</td>\n",
       "      <td>4.8</td>\n",
       "      <td>29</td>\n",
       "      <td>186</td>\n",
       "      <td>93.103448</td>\n",
       "      <td>3.896552</td>\n",
       "      <td>65.517241</td>\n",
       "      <td>13In the Rotation, Processing and Surge Facili...</td>\n",
       "      <td>1</td>\n",
       "    </tr>\n",
       "  </tbody>\n",
       "</table>\n",
       "</div>"
      ],
      "text/plain": [
       "   Unnamed: 0  Sentence ID                          HIT ID  Formality  \\\n",
       "0           0            0  3D1TUISJWHZ3X38ICFUZ8CHJC9KIUW        5.8   \n",
       "1           1            1  3GKAWYFRAOS9XNK03FUU79E7CNKDPT        5.2   \n",
       "2           2            2  3VMHWJRYHUFB4G0NGCZ1PM3VQZ8XFB        5.2   \n",
       "\n",
       "   Informativeness  Implicature  Length in Words  Length in Characters  \\\n",
       "0              6.4          4.2               33                   201   \n",
       "1              5.8          2.6               45                   266   \n",
       "2              5.6          4.8               29                   186   \n",
       "\n",
       "     F-score   I-score  Lexical Density  \\\n",
       "0  93.939394  7.242424        66.666667   \n",
       "1  85.555556  5.200000        62.222222   \n",
       "2  93.103448  3.896552        65.517241   \n",
       "\n",
       "                                            Sentence  Label  \n",
       "0  10In High Bay 4 of the Vehicle Assembly Buildi...      1  \n",
       "1  12The oxygen vent arm and hood removed from th...      1  \n",
       "2  13In the Rotation, Processing and Surge Facili...      1  "
      ]
     },
     "execution_count": 16,
     "metadata": {},
     "output_type": "execute_result"
    }
   ],
   "source": [
    "df.head(3)"
   ]
  },
  {
   "cell_type": "code",
   "execution_count": 17,
   "metadata": {},
   "outputs": [],
   "source": [
    "##Clean the data to remove noise.\n",
    "def tokenize(strs):\n",
    "    strs = re.sub(r'[0-9]', ' ', strs)\n",
    "    strs = strs.strip().lower()\n",
    "    return strs"
   ]
  },
  {
   "cell_type": "code",
   "execution_count": null,
   "metadata": {},
   "outputs": [],
   "source": []
  },
  {
   "cell_type": "code",
   "execution_count": 18,
   "metadata": {},
   "outputs": [],
   "source": [
    "####If data cleaning is not needed, comment the next line, and in the next cell, change newSentimentText to SentimentText###########\n",
    "#df['newSentimentText'] = df['SentimentText'].progress_map(tokenize)"
   ]
  },
  {
   "cell_type": "code",
   "execution_count": 19,
   "metadata": {},
   "outputs": [
    {
     "data": {
      "text/html": [
       "<div>\n",
       "<style scoped>\n",
       "    .dataframe tbody tr th:only-of-type {\n",
       "        vertical-align: middle;\n",
       "    }\n",
       "\n",
       "    .dataframe tbody tr th {\n",
       "        vertical-align: top;\n",
       "    }\n",
       "\n",
       "    .dataframe thead th {\n",
       "        text-align: right;\n",
       "    }\n",
       "</style>\n",
       "<table border=\"1\" class=\"dataframe\">\n",
       "  <thead>\n",
       "    <tr style=\"text-align: right;\">\n",
       "      <th></th>\n",
       "      <th>Unnamed: 0</th>\n",
       "      <th>Sentence ID</th>\n",
       "      <th>HIT ID</th>\n",
       "      <th>Formality</th>\n",
       "      <th>Informativeness</th>\n",
       "      <th>Implicature</th>\n",
       "      <th>Length in Words</th>\n",
       "      <th>Length in Characters</th>\n",
       "      <th>F-score</th>\n",
       "      <th>I-score</th>\n",
       "      <th>Lexical Density</th>\n",
       "      <th>Sentence</th>\n",
       "      <th>Label</th>\n",
       "    </tr>\n",
       "  </thead>\n",
       "  <tbody>\n",
       "    <tr>\n",
       "      <th>0</th>\n",
       "      <td>0</td>\n",
       "      <td>0</td>\n",
       "      <td>3D1TUISJWHZ3X38ICFUZ8CHJC9KIUW</td>\n",
       "      <td>5.8</td>\n",
       "      <td>6.4</td>\n",
       "      <td>4.2</td>\n",
       "      <td>33</td>\n",
       "      <td>201</td>\n",
       "      <td>93.939394</td>\n",
       "      <td>7.242424</td>\n",
       "      <td>66.666667</td>\n",
       "      <td>10In High Bay 4 of the Vehicle Assembly Buildi...</td>\n",
       "      <td>1</td>\n",
       "    </tr>\n",
       "    <tr>\n",
       "      <th>1</th>\n",
       "      <td>1</td>\n",
       "      <td>1</td>\n",
       "      <td>3GKAWYFRAOS9XNK03FUU79E7CNKDPT</td>\n",
       "      <td>5.2</td>\n",
       "      <td>5.8</td>\n",
       "      <td>2.6</td>\n",
       "      <td>45</td>\n",
       "      <td>266</td>\n",
       "      <td>85.555556</td>\n",
       "      <td>5.200000</td>\n",
       "      <td>62.222222</td>\n",
       "      <td>12The oxygen vent arm and hood removed from th...</td>\n",
       "      <td>1</td>\n",
       "    </tr>\n",
       "    <tr>\n",
       "      <th>2</th>\n",
       "      <td>2</td>\n",
       "      <td>2</td>\n",
       "      <td>3VMHWJRYHUFB4G0NGCZ1PM3VQZ8XFB</td>\n",
       "      <td>5.2</td>\n",
       "      <td>5.6</td>\n",
       "      <td>4.8</td>\n",
       "      <td>29</td>\n",
       "      <td>186</td>\n",
       "      <td>93.103448</td>\n",
       "      <td>3.896552</td>\n",
       "      <td>65.517241</td>\n",
       "      <td>13In the Rotation, Processing and Surge Facili...</td>\n",
       "      <td>1</td>\n",
       "    </tr>\n",
       "  </tbody>\n",
       "</table>\n",
       "</div>"
      ],
      "text/plain": [
       "   Unnamed: 0  Sentence ID                          HIT ID  Formality  \\\n",
       "0           0            0  3D1TUISJWHZ3X38ICFUZ8CHJC9KIUW        5.8   \n",
       "1           1            1  3GKAWYFRAOS9XNK03FUU79E7CNKDPT        5.2   \n",
       "2           2            2  3VMHWJRYHUFB4G0NGCZ1PM3VQZ8XFB        5.2   \n",
       "\n",
       "   Informativeness  Implicature  Length in Words  Length in Characters  \\\n",
       "0              6.4          4.2               33                   201   \n",
       "1              5.8          2.6               45                   266   \n",
       "2              5.6          4.8               29                   186   \n",
       "\n",
       "     F-score   I-score  Lexical Density  \\\n",
       "0  93.939394  7.242424        66.666667   \n",
       "1  85.555556  5.200000        62.222222   \n",
       "2  93.103448  3.896552        65.517241   \n",
       "\n",
       "                                            Sentence  Label  \n",
       "0  10In High Bay 4 of the Vehicle Assembly Buildi...      1  \n",
       "1  12The oxygen vent arm and hood removed from th...      1  \n",
       "2  13In the Rotation, Processing and Surge Facili...      1  "
      ]
     },
     "execution_count": 19,
     "metadata": {},
     "output_type": "execute_result"
    }
   ],
   "source": [
    "df.head(3)"
   ]
  },
  {
   "cell_type": "code",
   "execution_count": 20,
   "metadata": {},
   "outputs": [],
   "source": [
    "haha=[]\n",
    "for i in range(len(df)):\n",
    "    haha.append([df.loc[i].Sentence,df.loc[i].Label])"
   ]
  },
  {
   "cell_type": "code",
   "execution_count": 21,
   "metadata": {},
   "outputs": [
    {
     "data": {
      "text/plain": [
       "7036"
      ]
     },
     "execution_count": 21,
     "metadata": {},
     "output_type": "execute_result"
    }
   ],
   "source": [
    "len(haha)"
   ]
  },
  {
   "cell_type": "code",
   "execution_count": 22,
   "metadata": {},
   "outputs": [],
   "source": [
    "###Get the data and process the data randomly. 0.8 is used for training and 0.2 is used for testing\n",
    "random.shuffle(haha)\n",
    "s=int(len(haha)*0.8)"
   ]
  },
  {
   "cell_type": "code",
   "execution_count": 23,
   "metadata": {},
   "outputs": [
    {
     "data": {
      "text/plain": [
       "5628"
      ]
     },
     "execution_count": 23,
     "metadata": {},
     "output_type": "execute_result"
    }
   ],
   "source": [
    "s"
   ]
  },
  {
   "cell_type": "code",
   "execution_count": 24,
   "metadata": {},
   "outputs": [],
   "source": [
    "train_data=haha[:s]\n",
    "test_data=haha[s:]"
   ]
  },
  {
   "cell_type": "markdown",
   "metadata": {},
   "source": [
    "# Split words to generate data dictionary"
   ]
  },
  {
   "cell_type": "code",
   "execution_count": 25,
   "metadata": {
    "ExecuteTime": {
     "end_time": "2019-07-04T15:24:58.666425Z",
     "start_time": "2019-07-04T15:24:30.652855Z"
    }
   },
   "outputs": [],
   "source": [
    "import torchtext\n",
    "import collections\n",
    "from collections import namedtuple\n",
    "\n",
    "#Word segmentation function\n",
    "def get_tokenized_imdb(data):\n",
    "    '''\n",
    "    @params:\n",
    "         data: a list of data, each element in the list is a [text string, 0/1 tag] two-tuple\n",
    "     @return:\n",
    "         A list of the text after the word segmentation, each element in the list is the word sequence after segmentation\n",
    "    ''' \n",
    "    \n",
    "    def tokenizer(text):\n",
    "        return [tok.lower() for tok in text.split(' ')]\n",
    "    return [tokenizer(review) for review, _ in data]\n",
    "\n",
    "#Generate dataset dictionary\n",
    "def get_vocab_imdb(data):\n",
    "    '''\n",
    "   @params:\n",
    "         data: Same as above\n",
    "    @return: Dictionary on the dataset, examples of Vocab (freqs, stoi, itos)\n",
    "    '''\n",
    "    tokenized_data = get_tokenized_imdb(data)\n",
    "    #Take out all the tokens in the segmented text and construct a token counter\n",
    "    counter = collections.Counter([tk for st in tokenized_data for tk in st])\n",
    "    #Pass the constructed counter to the dictionary's constructor and set the minimum word frequency to 5, \n",
    "    #so that the dictionary will only contain at least 5 occurrences\n",
    "    #The real column of the dictionary contains three dictionary variables (freqs (Counter that saves the statistical word frequency), \n",
    "    #stoi, itos (stoi, itos together form the bidirectional index of the dictionary)\n",
    "    return torchtext.vocab.Vocab(counter, min_freq=5)\n",
    "\n",
    "vocab = get_vocab_imdb(train_data) "
   ]
  },
  {
   "cell_type": "markdown",
   "metadata": {},
   "source": [
    "# The text is converted from string form to word subscript sequence form, and the text is processed to make the text length constant"
   ]
  },
  {
   "cell_type": "code",
   "execution_count": 26,
   "metadata": {},
   "outputs": [],
   "source": [
    "\n",
    "def preprocess_imdb(data, vocab):\n",
    "    '''\n",
    "    @params:\n",
    "        data: Same as above, the original read data\n",
    "        vocab: Dictionary generated on the training set\n",
    "    @return:\n",
    "        features: a sequence of word subscripts, an integer tensor of shape (n, max_l)\n",
    "        labels: emotional labels, a 0/1 integer tensor with shape (n,)\n",
    "    '''\n",
    "    max_l = 500  # Cut each comment or add 0 to make the length 500\n",
    "\n",
    "    def pad(x):\n",
    "        #If the length is larger than 500, it will be truncated, if it is less than 500, it will be filled with 0\n",
    "        return x[:max_l] if len(x) > max_l else x + [0] * (max_l - len(x))\n",
    "\n",
    "    tokenized_data = get_tokenized_imdb(data)\n",
    "    #After the word segmentation, enumerate each text sequence words,\n",
    "    #first convert the word to the subscript of the word according to the index of the word, and then normalize the length. If it is less than 500, add 0\n",
    "    #This gets an integer tensor of shape n * 500, whose content is the subscript sequence of text words\n",
    "    features = torch.tensor([pad([vocab.stoi[word] for word in words]) for words in tokenized_data])\n",
    "   #Similarly quantize the label to obtain a 0/1 integer tensor of shape (n), where n is the number of samples\n",
    "    labels = torch.tensor([score for _, score in data])\n",
    "    return features, labels"
   ]
  },
  {
   "cell_type": "markdown",
   "metadata": {},
   "source": [
    "# Create data iterator\n"
   ]
  },
  {
   "cell_type": "code",
   "execution_count": 27,
   "metadata": {},
   "outputs": [
    {
     "name": "stdout",
     "output_type": "stream",
     "text": [
      "X torch.Size([64, 500]) y torch.Size([64])\n",
      "#batches: 88\n"
     ]
    }
   ],
   "source": [
    "train_set = Data.TensorDataset(*preprocess_imdb(train_data, vocab))\n",
    "test_set = Data.TensorDataset(*preprocess_imdb(test_data, vocab))\n",
    "\n",
    "\n",
    "batch_size = 64\n",
    "train_iter = Data.DataLoader(train_set, batch_size, shuffle=True)\n",
    "test_iter = Data.DataLoader(test_set, batch_size)\n",
    "\n",
    "for X, y in train_iter:\n",
    "    print('X', X.shape, 'y', y.shape)\n",
    "    break\n",
    "print('#batches:', len(train_iter))"
   ]
  },
  {
   "cell_type": "markdown",
   "metadata": {},
   "source": [
    "# textCNNmodel"
   ]
  },
  {
   "cell_type": "code",
   "execution_count": 28,
   "metadata": {
    "ExecuteTime": {
     "end_time": "2019-07-04T15:24:58.674283Z",
     "start_time": "2019-07-04T15:24:58.668832Z"
    }
   },
   "outputs": [],
   "source": [
    "#Contains two word embedding layers. One participates in training, one does not participate in training\n",
    "class TextCNN(nn.Module):\n",
    "    def __init__(self, vocab, embed_size, kernel_sizes, num_channels):\n",
    "        super(TextCNN, self).__init__()\n",
    "        self.embedding = nn.Embedding(len(vocab), embed_size)\n",
    "        # Embedding layer not involved in training\n",
    "        self.constant_embedding = nn.Embedding(len(vocab), embed_size)\n",
    "        self.dropout = nn.Dropout(0.5)\n",
    "        self.decoder = nn.Linear(sum(num_channels), 2)\n",
    "        # The timing maximum pooling layer has no weight, so it can share an instance\n",
    "        self.pool = GlobalMaxPool1d()\n",
    "        self.convs = nn.ModuleList()  # Create multiple one-dimensional convolutional layers\n",
    "        for c, k in zip(num_channels, kernel_sizes):\n",
    "            self.convs.append(nn.Conv1d(in_channels = 2*embed_size, \n",
    "                                        out_channels = c, \n",
    "                                        kernel_size = k))\n",
    "\n",
    "    def forward(self, inputs):\n",
    "        # Connect the output of the two embedding layers whose shapes are \n",
    "        #(batch size, word count, word vector dimension) according to word vector\n",
    "        embeddings = torch.cat((\n",
    "            self.embedding(inputs), \n",
    "            self.constant_embedding(inputs)), dim=2) # (batch, seq_len, 2*embed_size)\n",
    "        embeddings = embeddings.permute(0, 2, 1)\n",
    "         # For each one-dimensional convolutional layer, after the time sequence maximum pooling, \n",
    "         # a shape of (batch size, channel size, 1) will be obtained\n",
    "         # Tensor. Use the flatten function to remove the last dimension, and then connect on the channel dimension\n",
    "        encoding = torch.cat([self.pool(F.relu(conv(embeddings))).squeeze(-1) for conv in self.convs], dim=1)\n",
    "        # Use the fully connected layer to get the output after applying the discard method\n",
    "        outputs = self.decoder(self.dropout(encoding))\n",
    "        return outputs"
   ]
  },
  {
   "cell_type": "code",
   "execution_count": 29,
   "metadata": {
    "ExecuteTime": {
     "end_time": "2019-07-04T15:24:58.764854Z",
     "start_time": "2019-07-04T15:24:58.675824Z"
    }
   },
   "outputs": [],
   "source": [
    "embed_size, kernel_sizes, nums_channels = 100, [3, 4, 5], [100, 100, 100]\n",
    "net = TextCNN(vocab, embed_size, kernel_sizes, nums_channels)"
   ]
  },
  {
   "cell_type": "markdown",
   "metadata": {},
   "source": [
    "# Load pre-trained word vectors"
   ]
  },
  {
   "cell_type": "code",
   "execution_count": 30,
   "metadata": {},
   "outputs": [],
   "source": [
    "def load_pretrained_embedding(words, pretrained_vocab):\n",
    "   ###Extract the word vector corresponding to words from the pre-trained vocab###\n",
    "    embed = torch.zeros(len(words), pretrained_vocab.vectors[0].shape[0]) # Initialized to 0\n",
    "    oov_count = 0 # out of vocabulary\n",
    "    for i, word in enumerate(words):\n",
    "        try:\n",
    "            idx = pretrained_vocab.stoi[word]\n",
    "            embed[i, :] = pretrained_vocab.vectors[idx]\n",
    "        except KeyError:\n",
    "            oov_count += 1\n",
    "    if oov_count > 0:\n",
    "        print(\"There are %d oov words.\" % oov_count)\n",
    "    return embed\n",
    "\n",
    "\n",
    "def train(train_iter, test_iter, net, loss, optimizer, device, num_epochs):\n",
    "    net = net.to(device)\n",
    "    print(\"training on \", device)\n",
    "    batch_count = 0\n",
    "    for epoch in range(num_epochs):\n",
    "        train_l_sum, train_acc_sum, n, start = 0.0, 0.0, 0, time.time()\n",
    "        for X, y in train_iter:\n",
    "            X = X.to(device)\n",
    "            y = y.to(device)\n",
    "            y_hat = net(X)\n",
    "            l = loss(y_hat, y) \n",
    "            optimizer.zero_grad()\n",
    "            l.backward()\n",
    "            optimizer.step()\n",
    "            train_l_sum += l.cpu().item()\n",
    "            train_acc_sum += (y_hat.argmax(dim=1) == y).sum().cpu().item()\n",
    "            n += y.shape[0]\n",
    "            batch_count += 1\n",
    "        test_acc = evaluate_accuracy(test_iter, net)\n",
    "        print('epoch %d, loss %.4f, train acc %.3f, test acc %.3f, time %.1f sec'\n",
    "              % (epoch + 1, train_l_sum / batch_count, train_acc_sum / n, test_acc, time.time() - start))\n",
    "        \n",
    "def evaluate_accuracy(data_iter, net, device=None):\n",
    "    if device is None and isinstance(net, torch.nn.Module):\n",
    "        # If no device is specified, net device is used\n",
    "        device = list(net.parameters())[0].device \n",
    "    acc_sum, n = 0.0, 0\n",
    "    with torch.no_grad():\n",
    "        for X, y in data_iter:\n",
    "            if isinstance(net, torch.nn.Module):\n",
    "                net.eval() # Evaluation mode, this will turn off dropout\n",
    "                acc_sum += (net(X.to(device)).argmax(dim=1) == y.to(device)).float().sum().cpu().item()\n",
    "                net.train() # Change back to training mode\n",
    "            else: \n",
    "                if('is_training' in net.__code__.co_varnames): \n",
    "                    acc_sum += (net(X, is_training=False).argmax(dim=1) == y).float().sum().item() \n",
    "                else:\n",
    "                    acc_sum += (net(X).argmax(dim=1) == y).float().sum().item() \n",
    "            n += y.shape[0]\n",
    "    return acc_sum / n"
   ]
  },
  {
   "cell_type": "markdown",
   "metadata": {},
   "source": [
    "# Training word vector"
   ]
  },
  {
   "cell_type": "code",
   "execution_count": 31,
   "metadata": {
    "ExecuteTime": {
     "end_time": "2019-07-04T15:25:00.616142Z",
     "start_time": "2019-07-04T15:24:58.766569Z"
    }
   },
   "outputs": [
    {
     "name": "stdout",
     "output_type": "stream",
     "text": [
      "There are 417 oov words.\n",
      "There are 417 oov words.\n"
     ]
    }
   ],
   "source": [
    "glove_vocab = Vocab.GloVe(name='6B', dim=100, cache=os.path.join(DATA_ROOT, \"glove\"))\n",
    "net.embedding.weight.data.copy_(\n",
    "    load_pretrained_embedding(vocab.itos, glove_vocab))\n",
    "net.constant_embedding.weight.data.copy_(\n",
    "    load_pretrained_embedding(vocab.itos, glove_vocab))\n",
    "net.constant_embedding.weight.requires_grad = False"
   ]
  },
  {
   "cell_type": "markdown",
   "metadata": {},
   "source": [
    "# Test Model"
   ]
  },
  {
   "cell_type": "code",
   "execution_count": 32,
   "metadata": {
    "ExecuteTime": {
     "end_time": "2019-07-04T15:28:36.938512Z",
     "start_time": "2019-07-04T15:25:00.618194Z"
    }
   },
   "outputs": [
    {
     "name": "stdout",
     "output_type": "stream",
     "text": [
      "training on  cuda\n",
      "epoch 1, loss 0.4813, train acc 0.769, test acc 0.795, time 4.1 sec\n",
      "epoch 2, loss 0.1867, train acc 0.844, test acc 0.842, time 2.8 sec\n",
      "epoch 3, loss 0.1043, train acc 0.872, test acc 0.861, time 2.8 sec\n",
      "epoch 4, loss 0.0645, train acc 0.897, test acc 0.847, time 2.7 sec\n",
      "epoch 5, loss 0.0413, train acc 0.918, test acc 0.853, time 2.7 sec\n"
     ]
    }
   ],
   "source": [
    "lr, num_epochs = 0.001, 5\n",
    "optimizer = torch.optim.Adam(filter(lambda p: p.requires_grad, net.parameters()), lr=lr)\n",
    "loss = nn.CrossEntropyLoss()\n",
    "train(train_iter, test_iter, net, loss, optimizer, device, num_epochs)"
   ]
  },
  {
   "cell_type": "code",
   "execution_count": 33,
   "metadata": {},
   "outputs": [],
   "source": [
    "def predict_sentiment(net, vocab, sentence):\n",
    "    device = list(net.parameters())[0].device\n",
    "    sentence = torch.tensor([vocab.stoi[word] for word in sentence], device=device)\n",
    "    label = torch.argmax(net(sentence.view((1, -1))), dim=1)\n",
    "    return 'informal' if label.item() == 1 else 'formal'"
   ]
  },
  {
   "cell_type": "code",
   "execution_count": 34,
   "metadata": {
    "ExecuteTime": {
     "end_time": "2019-07-04T15:28:36.954105Z",
     "start_time": "2019-07-04T15:28:36.947516Z"
    }
   },
   "outputs": [
    {
     "data": {
      "text/plain": [
       "'informal'"
      ]
     },
     "execution_count": 34,
     "metadata": {},
     "output_type": "execute_result"
    }
   ],
   "source": [
    "predict_sentiment(net, vocab, ['but', 'was', 'well', 'below', 'analyst', 'forecasts'])"
   ]
  },
  {
   "cell_type": "code",
   "execution_count": 35,
   "metadata": {},
   "outputs": [
    {
     "data": {
      "text/plain": [
       "'informal'"
      ]
     },
     "execution_count": 35,
     "metadata": {},
     "output_type": "execute_result"
    }
   ],
   "source": [
    "predict_sentiment(net, vocab, ['i', 'am', 'very', 'happy', 'today', 'and', 'i', 'dont','why'])"
   ]
  },
  {
   "cell_type": "code",
   "execution_count": null,
   "metadata": {},
   "outputs": [],
   "source": []
  }
 ],
 "metadata": {
  "kernelspec": {
   "display_name": "Python 3",
   "language": "python",
   "name": "python3"
  },
  "language_info": {
   "codemirror_mode": {
    "name": "ipython",
    "version": 3
   },
   "file_extension": ".py",
   "mimetype": "text/x-python",
   "name": "python",
   "nbconvert_exporter": "python",
   "pygments_lexer": "ipython3",
   "version": "3.7.6"
  },
  "varInspector": {
   "cols": {
    "lenName": 16,
    "lenType": 16,
    "lenVar": 40
   },
   "kernels_config": {
    "python": {
     "delete_cmd_postfix": "",
     "delete_cmd_prefix": "del ",
     "library": "var_list.py",
     "varRefreshCmd": "print(var_dic_list())"
    },
    "r": {
     "delete_cmd_postfix": ") ",
     "delete_cmd_prefix": "rm(",
     "library": "var_list.r",
     "varRefreshCmd": "cat(var_dic_list()) "
    }
   },
   "types_to_exclude": [
    "module",
    "function",
    "builtin_function_or_method",
    "instance",
    "_Feature"
   ],
   "window_display": false
  }
 },
 "nbformat": 4,
 "nbformat_minor": 2
}
